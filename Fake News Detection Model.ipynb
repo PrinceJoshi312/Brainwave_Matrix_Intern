{
 "cells": [
  {
   "cell_type": "raw",
   "id": "7ac9e69d",
   "metadata": {
    "papermill": {
     "duration": 0.006692,
     "end_time": "2024-06-27T02:58:50.781310",
     "exception": false,
     "start_time": "2024-06-27T02:58:50.774618",
     "status": "completed"
    },
    "tags": []
   },
   "source": [
    "**Fake News Detection Model**"
   ]
  },
  {
   "cell_type": "code",
   "execution_count": 1,
   "id": "b5f325ca",
   "metadata": {
    "execution": {
     "iopub.execute_input": "2024-06-27T02:58:50.795970Z",
     "iopub.status.busy": "2024-06-27T02:58:50.795538Z",
     "iopub.status.idle": "2024-06-27T02:58:55.646632Z",
     "shell.execute_reply": "2024-06-27T02:58:55.645589Z"
    },
    "papermill": {
     "duration": 4.861374,
     "end_time": "2024-06-27T02:58:55.649280",
     "exception": false,
     "start_time": "2024-06-27T02:58:50.787906",
     "status": "completed"
    },
    "tags": []
   },
   "outputs": [],
   "source": [
    "import pandas as pd\n",
    "import numpy as np\n",
    "from sklearn.model_selection import train_test_split\n",
    "from sklearn.metrics import accuracy_score\n",
    "from sklearn.metrics import classification_report\n",
    "from sklearn.feature_extraction.text import TfidfVectorizer\n",
    "from sklearn.linear_model import PassiveAggressiveClassifier\n",
    "from sklearn.metrics import accuracy_score, confusion_matrix\n",
    "import re\n",
    "import string\n",
    "#Loading datasets\n",
    "\n",
    "df_fake = pd.read_csv(\"/kaggle/input/fake-and-real-news-dataset/Fake.csv\")\n",
    "df_true = pd.read_csv(\"/kaggle/input/fake-and-real-news-dataset/True.csv\")"
   ]
  },
  {
   "cell_type": "code",
   "execution_count": 2,
   "id": "0f3ef3cd",
   "metadata": {
    "execution": {
     "iopub.execute_input": "2024-06-27T02:58:55.663967Z",
     "iopub.status.busy": "2024-06-27T02:58:55.663151Z",
     "iopub.status.idle": "2024-06-27T02:58:55.685665Z",
     "shell.execute_reply": "2024-06-27T02:58:55.684655Z"
    },
    "papermill": {
     "duration": 0.032498,
     "end_time": "2024-06-27T02:58:55.688023",
     "exception": false,
     "start_time": "2024-06-27T02:58:55.655525",
     "status": "completed"
    },
    "tags": []
   },
   "outputs": [
    {
     "data": {
      "text/html": [
       "<div>\n",
       "<style scoped>\n",
       "    .dataframe tbody tr th:only-of-type {\n",
       "        vertical-align: middle;\n",
       "    }\n",
       "\n",
       "    .dataframe tbody tr th {\n",
       "        vertical-align: top;\n",
       "    }\n",
       "\n",
       "    .dataframe thead th {\n",
       "        text-align: right;\n",
       "    }\n",
       "</style>\n",
       "<table border=\"1\" class=\"dataframe\">\n",
       "  <thead>\n",
       "    <tr style=\"text-align: right;\">\n",
       "      <th></th>\n",
       "      <th>title</th>\n",
       "      <th>text</th>\n",
       "      <th>subject</th>\n",
       "      <th>date</th>\n",
       "    </tr>\n",
       "  </thead>\n",
       "  <tbody>\n",
       "    <tr>\n",
       "      <th>0</th>\n",
       "      <td>Donald Trump Sends Out Embarrassing New Year’...</td>\n",
       "      <td>Donald Trump just couldn t wish all Americans ...</td>\n",
       "      <td>News</td>\n",
       "      <td>December 31, 2017</td>\n",
       "    </tr>\n",
       "    <tr>\n",
       "      <th>1</th>\n",
       "      <td>Drunk Bragging Trump Staffer Started Russian ...</td>\n",
       "      <td>House Intelligence Committee Chairman Devin Nu...</td>\n",
       "      <td>News</td>\n",
       "      <td>December 31, 2017</td>\n",
       "    </tr>\n",
       "    <tr>\n",
       "      <th>2</th>\n",
       "      <td>Sheriff David Clarke Becomes An Internet Joke...</td>\n",
       "      <td>On Friday, it was revealed that former Milwauk...</td>\n",
       "      <td>News</td>\n",
       "      <td>December 30, 2017</td>\n",
       "    </tr>\n",
       "    <tr>\n",
       "      <th>3</th>\n",
       "      <td>Trump Is So Obsessed He Even Has Obama’s Name...</td>\n",
       "      <td>On Christmas day, Donald Trump announced that ...</td>\n",
       "      <td>News</td>\n",
       "      <td>December 29, 2017</td>\n",
       "    </tr>\n",
       "    <tr>\n",
       "      <th>4</th>\n",
       "      <td>Pope Francis Just Called Out Donald Trump Dur...</td>\n",
       "      <td>Pope Francis used his annual Christmas Day mes...</td>\n",
       "      <td>News</td>\n",
       "      <td>December 25, 2017</td>\n",
       "    </tr>\n",
       "  </tbody>\n",
       "</table>\n",
       "</div>"
      ],
      "text/plain": [
       "                                               title  \\\n",
       "0   Donald Trump Sends Out Embarrassing New Year’...   \n",
       "1   Drunk Bragging Trump Staffer Started Russian ...   \n",
       "2   Sheriff David Clarke Becomes An Internet Joke...   \n",
       "3   Trump Is So Obsessed He Even Has Obama’s Name...   \n",
       "4   Pope Francis Just Called Out Donald Trump Dur...   \n",
       "\n",
       "                                                text subject  \\\n",
       "0  Donald Trump just couldn t wish all Americans ...    News   \n",
       "1  House Intelligence Committee Chairman Devin Nu...    News   \n",
       "2  On Friday, it was revealed that former Milwauk...    News   \n",
       "3  On Christmas day, Donald Trump announced that ...    News   \n",
       "4  Pope Francis used his annual Christmas Day mes...    News   \n",
       "\n",
       "                date  \n",
       "0  December 31, 2017  \n",
       "1  December 31, 2017  \n",
       "2  December 30, 2017  \n",
       "3  December 29, 2017  \n",
       "4  December 25, 2017  "
      ]
     },
     "execution_count": 2,
     "metadata": {},
     "output_type": "execute_result"
    }
   ],
   "source": [
    "df_fake.head()"
   ]
  },
  {
   "cell_type": "code",
   "execution_count": 3,
   "id": "b9566761",
   "metadata": {
    "execution": {
     "iopub.execute_input": "2024-06-27T02:58:55.702614Z",
     "iopub.status.busy": "2024-06-27T02:58:55.702205Z",
     "iopub.status.idle": "2024-06-27T02:58:55.708821Z",
     "shell.execute_reply": "2024-06-27T02:58:55.707809Z"
    },
    "papermill": {
     "duration": 0.016457,
     "end_time": "2024-06-27T02:58:55.711099",
     "exception": false,
     "start_time": "2024-06-27T02:58:55.694642",
     "status": "completed"
    },
    "tags": []
   },
   "outputs": [],
   "source": [
    "#Adding a new column for fake or real news\n",
    "df_fake[\"label\"] = 0\n",
    "df_true[\"label\"] = 1"
   ]
  },
  {
   "cell_type": "markdown",
   "id": "b3f5199e",
   "metadata": {
    "papermill": {
     "duration": 0.006097,
     "end_time": "2024-06-27T02:58:55.723686",
     "exception": false,
     "start_time": "2024-06-27T02:58:55.717589",
     "status": "completed"
    },
    "tags": []
   },
   "source": [
    "**Merging both datasets**"
   ]
  },
  {
   "cell_type": "code",
   "execution_count": 4,
   "id": "e6554e82",
   "metadata": {
    "execution": {
     "iopub.execute_input": "2024-06-27T02:58:55.738099Z",
     "iopub.status.busy": "2024-06-27T02:58:55.737733Z",
     "iopub.status.idle": "2024-06-27T02:58:55.748453Z",
     "shell.execute_reply": "2024-06-27T02:58:55.747371Z"
    },
    "papermill": {
     "duration": 0.020895,
     "end_time": "2024-06-27T02:58:55.751008",
     "exception": false,
     "start_time": "2024-06-27T02:58:55.730113",
     "status": "completed"
    },
    "tags": []
   },
   "outputs": [],
   "source": [
    "new_df = pd.concat([df_fake, df_true], axis=0)"
   ]
  },
  {
   "cell_type": "code",
   "execution_count": 5,
   "id": "0ad921c2",
   "metadata": {
    "execution": {
     "iopub.execute_input": "2024-06-27T02:58:55.766070Z",
     "iopub.status.busy": "2024-06-27T02:58:55.765687Z",
     "iopub.status.idle": "2024-06-27T02:58:55.772283Z",
     "shell.execute_reply": "2024-06-27T02:58:55.771333Z"
    },
    "papermill": {
     "duration": 0.017155,
     "end_time": "2024-06-27T02:58:55.774713",
     "exception": false,
     "start_time": "2024-06-27T02:58:55.757558",
     "status": "completed"
    },
    "tags": []
   },
   "outputs": [
    {
     "data": {
      "text/plain": [
       "Index(['title', 'text', 'subject', 'date', 'label'], dtype='object')"
      ]
     },
     "execution_count": 5,
     "metadata": {},
     "output_type": "execute_result"
    }
   ],
   "source": [
    "new_df.columns"
   ]
  },
  {
   "cell_type": "markdown",
   "id": "0a4fd17c",
   "metadata": {
    "papermill": {
     "duration": 0.006579,
     "end_time": "2024-06-27T02:58:55.788052",
     "exception": false,
     "start_time": "2024-06-27T02:58:55.781473",
     "status": "completed"
    },
    "tags": []
   },
   "source": [
    "**Deleating unwanted columns**"
   ]
  },
  {
   "cell_type": "code",
   "execution_count": 6,
   "id": "381f99d6",
   "metadata": {
    "execution": {
     "iopub.execute_input": "2024-06-27T02:58:55.802842Z",
     "iopub.status.busy": "2024-06-27T02:58:55.802464Z",
     "iopub.status.idle": "2024-06-27T02:58:55.816154Z",
     "shell.execute_reply": "2024-06-27T02:58:55.815193Z"
    },
    "papermill": {
     "duration": 0.023928,
     "end_time": "2024-06-27T02:58:55.818489",
     "exception": false,
     "start_time": "2024-06-27T02:58:55.794561",
     "status": "completed"
    },
    "tags": []
   },
   "outputs": [],
   "source": [
    "df=new_df.drop(['title','subject','date'], axis=1)"
   ]
  },
  {
   "cell_type": "markdown",
   "id": "20eccbf3",
   "metadata": {
    "papermill": {
     "duration": 0.006277,
     "end_time": "2024-06-27T02:58:55.831268",
     "exception": false,
     "start_time": "2024-06-27T02:58:55.824991",
     "status": "completed"
    },
    "tags": []
   },
   "source": [
    "**Preprocessing**"
   ]
  },
  {
   "cell_type": "code",
   "execution_count": 7,
   "id": "9b8a907a",
   "metadata": {
    "execution": {
     "iopub.execute_input": "2024-06-27T02:58:55.845865Z",
     "iopub.status.busy": "2024-06-27T02:58:55.845492Z",
     "iopub.status.idle": "2024-06-27T02:58:55.862571Z",
     "shell.execute_reply": "2024-06-27T02:58:55.861529Z"
    },
    "papermill": {
     "duration": 0.027278,
     "end_time": "2024-06-27T02:58:55.864910",
     "exception": false,
     "start_time": "2024-06-27T02:58:55.837632",
     "status": "completed"
    },
    "tags": []
   },
   "outputs": [
    {
     "data": {
      "text/plain": [
       "text     0\n",
       "label    0\n",
       "dtype: int64"
      ]
     },
     "execution_count": 7,
     "metadata": {},
     "output_type": "execute_result"
    }
   ],
   "source": [
    "df.isnull().sum()"
   ]
  },
  {
   "cell_type": "code",
   "execution_count": 8,
   "id": "8172fba4",
   "metadata": {
    "execution": {
     "iopub.execute_input": "2024-06-27T02:58:55.880639Z",
     "iopub.status.busy": "2024-06-27T02:58:55.879534Z",
     "iopub.status.idle": "2024-06-27T02:58:55.894922Z",
     "shell.execute_reply": "2024-06-27T02:58:55.893888Z"
    },
    "papermill": {
     "duration": 0.026006,
     "end_time": "2024-06-27T02:58:55.897530",
     "exception": false,
     "start_time": "2024-06-27T02:58:55.871524",
     "status": "completed"
    },
    "tags": []
   },
   "outputs": [],
   "source": [
    "df.dropna(inplace = True)"
   ]
  },
  {
   "cell_type": "markdown",
   "id": "5e84b99e",
   "metadata": {
    "papermill": {
     "duration": 0.007215,
     "end_time": "2024-06-27T02:58:55.911758",
     "exception": false,
     "start_time": "2024-06-27T02:58:55.904543",
     "status": "completed"
    },
    "tags": []
   },
   "source": [
    "**Random Shuffeling**"
   ]
  },
  {
   "cell_type": "code",
   "execution_count": 9,
   "id": "89d454ca",
   "metadata": {
    "execution": {
     "iopub.execute_input": "2024-06-27T02:58:55.928102Z",
     "iopub.status.busy": "2024-06-27T02:58:55.927735Z",
     "iopub.status.idle": "2024-06-27T02:58:55.946835Z",
     "shell.execute_reply": "2024-06-27T02:58:55.945719Z"
    },
    "papermill": {
     "duration": 0.030933,
     "end_time": "2024-06-27T02:58:55.949659",
     "exception": false,
     "start_time": "2024-06-27T02:58:55.918726",
     "status": "completed"
    },
    "tags": []
   },
   "outputs": [],
   "source": [
    "df = df.sample(frac = 1)\n",
    "df.reset_index(inplace = True)\n",
    "df.drop([\"index\"], axis = 1, inplace = True)"
   ]
  },
  {
   "cell_type": "code",
   "execution_count": 10,
   "id": "615c3442",
   "metadata": {
    "execution": {
     "iopub.execute_input": "2024-06-27T02:58:55.964478Z",
     "iopub.status.busy": "2024-06-27T02:58:55.964085Z",
     "iopub.status.idle": "2024-06-27T02:58:55.974661Z",
     "shell.execute_reply": "2024-06-27T02:58:55.973546Z"
    },
    "papermill": {
     "duration": 0.020494,
     "end_time": "2024-06-27T02:58:55.976913",
     "exception": false,
     "start_time": "2024-06-27T02:58:55.956419",
     "status": "completed"
    },
    "tags": []
   },
   "outputs": [
    {
     "data": {
      "text/html": [
       "<div>\n",
       "<style scoped>\n",
       "    .dataframe tbody tr th:only-of-type {\n",
       "        vertical-align: middle;\n",
       "    }\n",
       "\n",
       "    .dataframe tbody tr th {\n",
       "        vertical-align: top;\n",
       "    }\n",
       "\n",
       "    .dataframe thead th {\n",
       "        text-align: right;\n",
       "    }\n",
       "</style>\n",
       "<table border=\"1\" class=\"dataframe\">\n",
       "  <thead>\n",
       "    <tr style=\"text-align: right;\">\n",
       "      <th></th>\n",
       "      <th>text</th>\n",
       "      <th>label</th>\n",
       "    </tr>\n",
       "  </thead>\n",
       "  <tbody>\n",
       "    <tr>\n",
       "      <th>0</th>\n",
       "      <td>The Islamic State terrorist group, also known ...</td>\n",
       "      <td>0</td>\n",
       "    </tr>\n",
       "    <tr>\n",
       "      <th>1</th>\n",
       "      <td>NEW YORK (Reuters) - Democratic presidential n...</td>\n",
       "      <td>1</td>\n",
       "    </tr>\n",
       "    <tr>\n",
       "      <th>2</th>\n",
       "      <td>Bill Maher has been criticized for making an i...</td>\n",
       "      <td>0</td>\n",
       "    </tr>\n",
       "    <tr>\n",
       "      <th>3</th>\n",
       "      <td>BERLIN (Reuters) - Germany s Free Democrats (F...</td>\n",
       "      <td>1</td>\n",
       "    </tr>\n",
       "    <tr>\n",
       "      <th>4</th>\n",
       "      <td>Well, we ve known this was coming even with op...</td>\n",
       "      <td>0</td>\n",
       "    </tr>\n",
       "  </tbody>\n",
       "</table>\n",
       "</div>"
      ],
      "text/plain": [
       "                                                text  label\n",
       "0  The Islamic State terrorist group, also known ...      0\n",
       "1  NEW YORK (Reuters) - Democratic presidential n...      1\n",
       "2  Bill Maher has been criticized for making an i...      0\n",
       "3  BERLIN (Reuters) - Germany s Free Democrats (F...      1\n",
       "4  Well, we ve known this was coming even with op...      0"
      ]
     },
     "execution_count": 10,
     "metadata": {},
     "output_type": "execute_result"
    }
   ],
   "source": [
    "df.head()"
   ]
  },
  {
   "cell_type": "markdown",
   "id": "9216c42a",
   "metadata": {
    "papermill": {
     "duration": 0.007057,
     "end_time": "2024-06-27T02:58:55.991098",
     "exception": false,
     "start_time": "2024-06-27T02:58:55.984041",
     "status": "completed"
    },
    "tags": []
   },
   "source": [
    "**Removing staopwords and punctuations**"
   ]
  },
  {
   "cell_type": "code",
   "execution_count": 11,
   "id": "ba4a2c89",
   "metadata": {
    "execution": {
     "iopub.execute_input": "2024-06-27T02:58:56.006764Z",
     "iopub.status.busy": "2024-06-27T02:58:56.006035Z",
     "iopub.status.idle": "2024-06-27T02:58:56.012880Z",
     "shell.execute_reply": "2024-06-27T02:58:56.011703Z"
    },
    "papermill": {
     "duration": 0.017249,
     "end_time": "2024-06-27T02:58:56.015161",
     "exception": false,
     "start_time": "2024-06-27T02:58:55.997912",
     "status": "completed"
    },
    "tags": []
   },
   "outputs": [],
   "source": [
    "def preprocess_text(text):\n",
    "    text = text.lower()\n",
    "    text = re.sub('\\[.*?\\]', '', text)\n",
    "    text = re.sub(\"\\\\W\",\" \",text) \n",
    "    text = re.sub('https?://\\S+|www\\.\\S+', '', text)\n",
    "    text = re.sub('<.*?>+', '', text)\n",
    "    text = re.sub('[%s]' % re.escape(string.punctuation), '', text)\n",
    "    text = re.sub('\\n', '', text)\n",
    "    text = re.sub('\\w*\\d\\w*', '', text)    \n",
    "    return text"
   ]
  },
  {
   "cell_type": "code",
   "execution_count": 12,
   "id": "0572f2d7",
   "metadata": {
    "execution": {
     "iopub.execute_input": "2024-06-27T02:58:56.031018Z",
     "iopub.status.busy": "2024-06-27T02:58:56.030660Z",
     "iopub.status.idle": "2024-06-27T02:59:19.825400Z",
     "shell.execute_reply": "2024-06-27T02:59:19.824320Z"
    },
    "papermill": {
     "duration": 23.805748,
     "end_time": "2024-06-27T02:59:19.828103",
     "exception": false,
     "start_time": "2024-06-27T02:58:56.022355",
     "status": "completed"
    },
    "tags": []
   },
   "outputs": [],
   "source": [
    "df[\"text\"] = df[\"text\"].apply(preprocess_text)"
   ]
  },
  {
   "cell_type": "markdown",
   "id": "3d231dc7",
   "metadata": {
    "papermill": {
     "duration": 0.006468,
     "end_time": "2024-06-27T02:59:19.841624",
     "exception": false,
     "start_time": "2024-06-27T02:59:19.835156",
     "status": "completed"
    },
    "tags": []
   },
   "source": [
    "**Data Spliting**"
   ]
  },
  {
   "cell_type": "code",
   "execution_count": 13,
   "id": "e88d4172",
   "metadata": {
    "execution": {
     "iopub.execute_input": "2024-06-27T02:59:19.856704Z",
     "iopub.status.busy": "2024-06-27T02:59:19.856304Z",
     "iopub.status.idle": "2024-06-27T02:59:19.869463Z",
     "shell.execute_reply": "2024-06-27T02:59:19.868555Z"
    },
    "papermill": {
     "duration": 0.023496,
     "end_time": "2024-06-27T02:59:19.871900",
     "exception": false,
     "start_time": "2024-06-27T02:59:19.848404",
     "status": "completed"
    },
    "tags": []
   },
   "outputs": [],
   "source": [
    "X = df['text']\n",
    "y = df['label']\n",
    "\n",
    "X_train, X_test, y_train, y_test = train_test_split(X, y, test_size=0.2, random_state=7)\n"
   ]
  },
  {
   "cell_type": "markdown",
   "id": "f71e8c49",
   "metadata": {
    "papermill": {
     "duration": 0.006407,
     "end_time": "2024-06-27T02:59:19.885212",
     "exception": false,
     "start_time": "2024-06-27T02:59:19.878805",
     "status": "completed"
    },
    "tags": []
   },
   "source": [
    "**Text to vector conversion**"
   ]
  },
  {
   "cell_type": "code",
   "execution_count": 14,
   "id": "3e64e8dc",
   "metadata": {
    "execution": {
     "iopub.execute_input": "2024-06-27T02:59:19.900406Z",
     "iopub.status.busy": "2024-06-27T02:59:19.899880Z",
     "iopub.status.idle": "2024-06-27T02:59:33.888723Z",
     "shell.execute_reply": "2024-06-27T02:59:33.887452Z"
    },
    "papermill": {
     "duration": 13.999614,
     "end_time": "2024-06-27T02:59:33.891574",
     "exception": false,
     "start_time": "2024-06-27T02:59:19.891960",
     "status": "completed"
    },
    "tags": []
   },
   "outputs": [],
   "source": [
    "vectorizer = TfidfVectorizer(stop_words='english', max_df=0.7)\n",
    "tfidf_train = vectorizer.fit_transform(X_train)\n",
    "tfidf_test = vectorizer.transform(X_test)\n"
   ]
  },
  {
   "cell_type": "markdown",
   "id": "fcfe1b12",
   "metadata": {
    "papermill": {
     "duration": 0.006568,
     "end_time": "2024-06-27T02:59:33.905112",
     "exception": false,
     "start_time": "2024-06-27T02:59:33.898544",
     "status": "completed"
    },
    "tags": []
   },
   "source": [
    "**Building and Training the Model**"
   ]
  },
  {
   "cell_type": "code",
   "execution_count": 15,
   "id": "0da07894",
   "metadata": {
    "execution": {
     "iopub.execute_input": "2024-06-27T02:59:33.920125Z",
     "iopub.status.busy": "2024-06-27T02:59:33.919738Z",
     "iopub.status.idle": "2024-06-27T02:59:34.300828Z",
     "shell.execute_reply": "2024-06-27T02:59:34.299658Z"
    },
    "papermill": {
     "duration": 0.391507,
     "end_time": "2024-06-27T02:59:34.303274",
     "exception": false,
     "start_time": "2024-06-27T02:59:33.911767",
     "status": "completed"
    },
    "tags": []
   },
   "outputs": [
    {
     "data": {
      "text/html": [
       "<style>#sk-container-id-1 {color: black;background-color: white;}#sk-container-id-1 pre{padding: 0;}#sk-container-id-1 div.sk-toggleable {background-color: white;}#sk-container-id-1 label.sk-toggleable__label {cursor: pointer;display: block;width: 100%;margin-bottom: 0;padding: 0.3em;box-sizing: border-box;text-align: center;}#sk-container-id-1 label.sk-toggleable__label-arrow:before {content: \"▸\";float: left;margin-right: 0.25em;color: #696969;}#sk-container-id-1 label.sk-toggleable__label-arrow:hover:before {color: black;}#sk-container-id-1 div.sk-estimator:hover label.sk-toggleable__label-arrow:before {color: black;}#sk-container-id-1 div.sk-toggleable__content {max-height: 0;max-width: 0;overflow: hidden;text-align: left;background-color: #f0f8ff;}#sk-container-id-1 div.sk-toggleable__content pre {margin: 0.2em;color: black;border-radius: 0.25em;background-color: #f0f8ff;}#sk-container-id-1 input.sk-toggleable__control:checked~div.sk-toggleable__content {max-height: 200px;max-width: 100%;overflow: auto;}#sk-container-id-1 input.sk-toggleable__control:checked~label.sk-toggleable__label-arrow:before {content: \"▾\";}#sk-container-id-1 div.sk-estimator input.sk-toggleable__control:checked~label.sk-toggleable__label {background-color: #d4ebff;}#sk-container-id-1 div.sk-label input.sk-toggleable__control:checked~label.sk-toggleable__label {background-color: #d4ebff;}#sk-container-id-1 input.sk-hidden--visually {border: 0;clip: rect(1px 1px 1px 1px);clip: rect(1px, 1px, 1px, 1px);height: 1px;margin: -1px;overflow: hidden;padding: 0;position: absolute;width: 1px;}#sk-container-id-1 div.sk-estimator {font-family: monospace;background-color: #f0f8ff;border: 1px dotted black;border-radius: 0.25em;box-sizing: border-box;margin-bottom: 0.5em;}#sk-container-id-1 div.sk-estimator:hover {background-color: #d4ebff;}#sk-container-id-1 div.sk-parallel-item::after {content: \"\";width: 100%;border-bottom: 1px solid gray;flex-grow: 1;}#sk-container-id-1 div.sk-label:hover label.sk-toggleable__label {background-color: #d4ebff;}#sk-container-id-1 div.sk-serial::before {content: \"\";position: absolute;border-left: 1px solid gray;box-sizing: border-box;top: 0;bottom: 0;left: 50%;z-index: 0;}#sk-container-id-1 div.sk-serial {display: flex;flex-direction: column;align-items: center;background-color: white;padding-right: 0.2em;padding-left: 0.2em;position: relative;}#sk-container-id-1 div.sk-item {position: relative;z-index: 1;}#sk-container-id-1 div.sk-parallel {display: flex;align-items: stretch;justify-content: center;background-color: white;position: relative;}#sk-container-id-1 div.sk-item::before, #sk-container-id-1 div.sk-parallel-item::before {content: \"\";position: absolute;border-left: 1px solid gray;box-sizing: border-box;top: 0;bottom: 0;left: 50%;z-index: -1;}#sk-container-id-1 div.sk-parallel-item {display: flex;flex-direction: column;z-index: 1;position: relative;background-color: white;}#sk-container-id-1 div.sk-parallel-item:first-child::after {align-self: flex-end;width: 50%;}#sk-container-id-1 div.sk-parallel-item:last-child::after {align-self: flex-start;width: 50%;}#sk-container-id-1 div.sk-parallel-item:only-child::after {width: 0;}#sk-container-id-1 div.sk-dashed-wrapped {border: 1px dashed gray;margin: 0 0.4em 0.5em 0.4em;box-sizing: border-box;padding-bottom: 0.4em;background-color: white;}#sk-container-id-1 div.sk-label label {font-family: monospace;font-weight: bold;display: inline-block;line-height: 1.2em;}#sk-container-id-1 div.sk-label-container {text-align: center;}#sk-container-id-1 div.sk-container {/* jupyter's `normalize.less` sets `[hidden] { display: none; }` but bootstrap.min.css set `[hidden] { display: none !important; }` so we also need the `!important` here to be able to override the default hidden behavior on the sphinx rendered scikit-learn.org. See: https://github.com/scikit-learn/scikit-learn/issues/21755 */display: inline-block !important;position: relative;}#sk-container-id-1 div.sk-text-repr-fallback {display: none;}</style><div id=\"sk-container-id-1\" class=\"sk-top-container\"><div class=\"sk-text-repr-fallback\"><pre>PassiveAggressiveClassifier(max_iter=50)</pre><b>In a Jupyter environment, please rerun this cell to show the HTML representation or trust the notebook. <br />On GitHub, the HTML representation is unable to render, please try loading this page with nbviewer.org.</b></div><div class=\"sk-container\" hidden><div class=\"sk-item\"><div class=\"sk-estimator sk-toggleable\"><input class=\"sk-toggleable__control sk-hidden--visually\" id=\"sk-estimator-id-1\" type=\"checkbox\" checked><label for=\"sk-estimator-id-1\" class=\"sk-toggleable__label sk-toggleable__label-arrow\">PassiveAggressiveClassifier</label><div class=\"sk-toggleable__content\"><pre>PassiveAggressiveClassifier(max_iter=50)</pre></div></div></div></div></div>"
      ],
      "text/plain": [
       "PassiveAggressiveClassifier(max_iter=50)"
      ]
     },
     "execution_count": 15,
     "metadata": {},
     "output_type": "execute_result"
    }
   ],
   "source": [
    "pac = PassiveAggressiveClassifier(max_iter=50)\n",
    "pac.fit(tfidf_train, y_train)"
   ]
  },
  {
   "cell_type": "code",
   "execution_count": 16,
   "id": "be84930e",
   "metadata": {
    "execution": {
     "iopub.execute_input": "2024-06-27T02:59:34.319664Z",
     "iopub.status.busy": "2024-06-27T02:59:34.319228Z",
     "iopub.status.idle": "2024-06-27T02:59:34.335537Z",
     "shell.execute_reply": "2024-06-27T02:59:34.334329Z"
    },
    "papermill": {
     "duration": 0.0284,
     "end_time": "2024-06-27T02:59:34.338753",
     "exception": false,
     "start_time": "2024-06-27T02:59:34.310353",
     "status": "completed"
    },
    "tags": []
   },
   "outputs": [
    {
     "name": "stdout",
     "output_type": "stream",
     "text": [
      "Accuracy: 99.51%\n",
      "[[4657   24]\n",
      " [  20 4279]]\n"
     ]
    }
   ],
   "source": [
    "# Predict on the test set\n",
    "y_pred = pac.predict(tfidf_test)\n",
    "\n",
    "# Calculate the accuracy\n",
    "score = accuracy_score(y_test, y_pred)\n",
    "print(f'Accuracy: {score * 100:.2f}%')\n",
    "\n",
    "# Display the confusion matrix\n",
    "conf_matrix = confusion_matrix(y_test, y_pred)\n",
    "print(conf_matrix)\n"
   ]
  },
  {
   "cell_type": "markdown",
   "id": "39d2a97a",
   "metadata": {
    "papermill": {
     "duration": 0.006849,
     "end_time": "2024-06-27T02:59:34.352979",
     "exception": false,
     "start_time": "2024-06-27T02:59:34.346130",
     "status": "completed"
    },
    "tags": []
   },
   "source": [
    "**Testing**"
   ]
  },
  {
   "cell_type": "code",
   "execution_count": 17,
   "id": "c283589b",
   "metadata": {
    "execution": {
     "iopub.execute_input": "2024-06-27T02:59:34.369825Z",
     "iopub.status.busy": "2024-06-27T02:59:34.369096Z",
     "iopub.status.idle": "2024-06-27T02:59:34.383656Z",
     "shell.execute_reply": "2024-06-27T02:59:34.382551Z"
    },
    "papermill": {
     "duration": 0.025903,
     "end_time": "2024-06-27T02:59:34.386189",
     "exception": false,
     "start_time": "2024-06-27T02:59:34.360286",
     "status": "completed"
    },
    "tags": []
   },
   "outputs": [
    {
     "name": "stdout",
     "output_type": "stream",
     "text": [
      "News is: Real\n"
     ]
    }
   ],
   "source": [
    "def predict_news(news_text):\n",
    "    # Preprocess the input text\n",
    "    processed_text = preprocess_text(news_text)\n",
    "    \n",
    "    # Convert to TF-IDF vector\n",
    "    tfidf_news = vectorizer.transform([processed_text])\n",
    "    \n",
    "    # Predict the label\n",
    "    prediction = pac.predict(tfidf_news)\n",
    "    \n",
    "    result = prediction[0]\n",
    "    if result is False:\n",
    "        return \"Fake\"\n",
    "    else:\n",
    "        return \"Real\"\n",
    "\n",
    "# Example news text\n",
    "news_text = \"WASHINGTON (Reuters) - The head of a conservative Republican faction in the U.S. Congress, who voted this month for a huge expansion of the national debt to pay for tax cuts, called himself a â€œfiscal conservativeâ€ on Sunday and urged budget restraint in 2018. In keeping with a sharp pivot under way among Republicans, U.S. Representative Mark Meadows, speaking on CBSâ€™ â€œFace the Nation,â€ drew a hard line on federal spending, which lawmakers are bracing to do battle over in January. When they return from the holidays on Wednesday, lawmakers will begin trying to pass a federal budget in a fight likely to be linked to other issues, such as immigration policy, even as the November congressional election campaigns approach in which Republicans will seek to keep control of Congress. President Donald Trump and his Republicans want a big budget increase in military spending, while Democrats also want proportional increases for non-defense â€œdiscretionaryâ€ spending on programs that support education, scientific research, infrastructure, public health and environmental protection. â€œThe (Trump) administration has already been willing to say: â€˜Weâ€™re going to increase non-defense discretionary spending ... by about 7 percent,â€™â€ Meadows, chairman of the small but influential House Freedom Caucus, said on the program. â€œNow, Democrats are saying thatâ€™s not enough, we need to give the government a pay raise of 10 to 11 percent. For a fiscal conservative, I donâ€™t see where the rationale is. ... Eventually you run out of other peopleâ€™s money,â€ he said. Meadows was among Republicans who voted in late December for their partyâ€™s debt-financed tax overhaul, which is expected to balloon the federal budget deficit and add about $1.5 trillion over 10 years to the $20 trillion national debt. â€œItâ€™s interesting to hear Mark talk about fiscal responsibility,â€ Democratic U.S. Representative Joseph Crowley said on CBS. Crowley said the Republican tax bill would require the  United States to borrow $1.5 trillion, to be paid off by future generations, to finance tax cuts for corporations and the rich. â€œThis is one of the least ... fiscally responsible bills weâ€™ve ever seen passed in the history of the House of Representatives. I think weâ€™re going to be paying for this for many, many years to come,â€ Crowley said. Republicans insist the tax package, the biggest U.S. tax overhaul in more than 30 years,  will boost the economy and job growth. House Speaker Paul Ryan, who also supported the tax bill, recently went further than Meadows, making clear in a radio interview that welfare or â€œentitlement reform,â€ as the party often calls it, would be a top Republican priority in 2018. In Republican parlance, â€œentitlementâ€ programs mean food stamps, housing assistance, Medicare and Medicaid health insurance for the elderly, poor and disabled, as well as other programs created by Washington to assist the needy. Democrats seized on Ryanâ€™s early December remarks, saying they showed Republicans would try to pay for their tax overhaul by seeking spending cuts for social programs. But the goals of House Republicans may have to take a back seat to the Senate, where the votes of some Democrats will be needed to approve a budget and prevent a government shutdown. Democrats will use their leverage in the Senate, which Republicans narrowly control, to defend both discretionary non-defense programs and social spending, while tackling the issue of the â€œDreamers,â€ people brought illegally to the country as children. Trump in September put a March 2018 expiration date on the Deferred Action for Childhood Arrivals, or DACA, program, which protects the young immigrants from deportation and provides them with work permits. The president has said in recent Twitter messages he wants funding for his proposed Mexican border wall and other immigration law changes in exchange for agreeing to help the Dreamers. Representative Debbie Dingell told CBS she did not favor linking that issue to other policy objectives, such as wall funding. â€œWe need to do DACA clean,â€ she said.  On Wednesday, Trump aides will meet with congressional leaders to discuss those issues. That will be followed by a weekend of strategy sessions for Trump and Republican leaders on Jan. 6 and 7, the White House said. Trump was also scheduled to meet on Sunday with Florida Republican Governor Rick Scott, who wants more emergency aid. The House has passed an $81 billion aid package after hurricanes in Florida, Texas and Puerto Rico, and wildfires in California. The package far exceeded the $44 billion requested by the Trump administration. The Senate has not yet voted on the aid. \"\n",
    "print(\"News is:\", predict_news(news_text))\n"
   ]
  },
  {
   "cell_type": "code",
   "execution_count": null,
   "id": "b29afe0d",
   "metadata": {
    "papermill": {
     "duration": 0.006743,
     "end_time": "2024-06-27T02:59:34.400126",
     "exception": false,
     "start_time": "2024-06-27T02:59:34.393383",
     "status": "completed"
    },
    "tags": []
   },
   "outputs": [],
   "source": []
  }
 ],
 "metadata": {
  "kaggle": {
   "accelerator": "none",
   "dataSources": [
    {
     "datasetId": 4831777,
     "sourceId": 8165591,
     "sourceType": "datasetVersion"
    }
   ],
   "dockerImageVersionId": 30732,
   "isGpuEnabled": false,
   "isInternetEnabled": false,
   "language": "python",
   "sourceType": "notebook"
  },
  "kernelspec": {
   "display_name": "Python 3",
   "language": "python",
   "name": "python3"
  },
  "language_info": {
   "codemirror_mode": {
    "name": "ipython",
    "version": 3
   },
   "file_extension": ".py",
   "mimetype": "text/x-python",
   "name": "python",
   "nbconvert_exporter": "python",
   "pygments_lexer": "ipython3",
   "version": "3.10.13"
  },
  "papermill": {
   "default_parameters": {},
   "duration": 47.04898,
   "end_time": "2024-06-27T02:59:35.028834",
   "environment_variables": {},
   "exception": null,
   "input_path": "__notebook__.ipynb",
   "output_path": "__notebook__.ipynb",
   "parameters": {},
   "start_time": "2024-06-27T02:58:47.979854",
   "version": "2.5.0"
  }
 },
 "nbformat": 4,
 "nbformat_minor": 5
}
